{
 "cells": [
  {
   "cell_type": "markdown",
   "id": "146c428f",
   "metadata": {},
   "source": [
    "# Pandas"
   ]
  },
  {
   "cell_type": "code",
   "execution_count": 9,
   "id": "8e700640",
   "metadata": {},
   "outputs": [],
   "source": [
    "import pandas as pd\n",
    "import numpy as np"
   ]
  },
  {
   "cell_type": "markdown",
   "id": "fa448ae8",
   "metadata": {},
   "source": [
    "Series are Numpy arrays where Dataframes are 2D Numpy arrays. Numpy and Pandas are very compatible libraries. The main difference between Series and Numpy arrays is that Series allign with labels."
   ]
  },
  {
   "cell_type": "code",
   "execution_count": 10,
   "id": "bc642d71",
   "metadata": {},
   "outputs": [
    {
     "name": "stdout",
     "output_type": "stream",
     "text": [
      "Lucas     21\n",
      "Rufus     22\n",
      "Jason     21\n",
      "Martin    23\n",
      "Aryan     21\n",
      "dtype: int64\n"
     ]
    }
   ],
   "source": [
    "ages = [21, 22, 21, 23, 21]\n",
    "names = [\"Lucas\", \"Rufus\", \"Jason\", \"Martin\", \"Aryan\"]\n",
    "\n",
    "series_1 = pd.Series(data=ages, index=names)\n",
    "print(series_1)"
   ]
  },
  {
   "cell_type": "code",
   "execution_count": 26,
   "id": "033b693a",
   "metadata": {},
   "outputs": [
    {
     "data": {
      "text/html": [
       "<div>\n",
       "<style scoped>\n",
       "    .dataframe tbody tr th:only-of-type {\n",
       "        vertical-align: middle;\n",
       "    }\n",
       "\n",
       "    .dataframe tbody tr th {\n",
       "        vertical-align: top;\n",
       "    }\n",
       "\n",
       "    .dataframe thead th {\n",
       "        text-align: right;\n",
       "    }\n",
       "</style>\n",
       "<table border=\"1\" class=\"dataframe\">\n",
       "  <thead>\n",
       "    <tr style=\"text-align: right;\">\n",
       "      <th></th>\n",
       "      <th>Lucas</th>\n",
       "      <th>Rufus</th>\n",
       "      <th>Jason</th>\n",
       "      <th>Martin</th>\n",
       "      <th>Aryan</th>\n",
       "    </tr>\n",
       "  </thead>\n",
       "  <tbody>\n",
       "    <tr>\n",
       "      <th>0</th>\n",
       "      <td>21</td>\n",
       "      <td>22</td>\n",
       "      <td>21</td>\n",
       "      <td>23</td>\n",
       "      <td>21</td>\n",
       "    </tr>\n",
       "    <tr>\n",
       "      <th>1</th>\n",
       "      <td>120</td>\n",
       "      <td>105</td>\n",
       "      <td>110</td>\n",
       "      <td>80</td>\n",
       "      <td>4</td>\n",
       "    </tr>\n",
       "  </tbody>\n",
       "</table>\n",
       "</div>"
      ],
      "text/plain": [
       "   Lucas  Rufus  Jason  Martin  Aryan\n",
       "0     21     22     21      23     21\n",
       "1    120    105    110      80      4"
      ]
     },
     "execution_count": 26,
     "metadata": {},
     "output_type": "execute_result"
    }
   ],
   "source": [
    "bench_scores = [120, 105, 110, 80, 4]\n",
    "df = pd.DataFrame([ages, bench_scores], columns=names)\n",
    "df"
   ]
  },
  {
   "cell_type": "code",
   "execution_count": 35,
   "id": "cca5593e",
   "metadata": {},
   "outputs": [
    {
     "data": {
      "text/plain": [
       "False"
      ]
     },
     "execution_count": 35,
     "metadata": {},
     "output_type": "execute_result"
    }
   ],
   "source": [
    "(df.loc[1] > 100).all()"
   ]
  },
  {
   "cell_type": "code",
   "execution_count": null,
   "id": "fb774484",
   "metadata": {},
   "outputs": [],
   "source": []
  }
 ],
 "metadata": {
  "kernelspec": {
   "display_name": "Python 3",
   "language": "python",
   "name": "python3"
  },
  "language_info": {
   "codemirror_mode": {
    "name": "ipython",
    "version": 3
   },
   "file_extension": ".py",
   "mimetype": "text/x-python",
   "name": "python",
   "nbconvert_exporter": "python",
   "pygments_lexer": "ipython3",
   "version": "3.8.10"
  }
 },
 "nbformat": 4,
 "nbformat_minor": 5
}
